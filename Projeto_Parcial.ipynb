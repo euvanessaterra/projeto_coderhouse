{
 "cells": [
  {
   "cell_type": "code",
   "execution_count": 39,
   "metadata": {},
   "outputs": [],
   "source": [
    "import pandas as pd\n",
    "import requests"
   ]
  },
  {
   "cell_type": "code",
   "execution_count": 40,
   "metadata": {},
   "outputs": [
    {
     "name": "stdout",
     "output_type": "stream",
     "text": [
      "Tabela de Países:\n",
      "            País\n",
      "0  South Georgia\n",
      "1        Grenada\n",
      "2    Switzerland\n",
      "3   Sierra Leone\n",
      "4        Hungary\n",
      "\n",
      "Tabela de Países e Capitais:\n",
      "            País              Capital\n",
      "0  South Georgia  [King Edward Point]\n",
      "1        Grenada       [St. George's]\n",
      "2    Switzerland               [Bern]\n",
      "3   Sierra Leone           [Freetown]\n",
      "4        Hungary           [Budapest]\n",
      "\n",
      "Tabela de Países e Regiões:\n",
      "            País     Região\n",
      "0  South Georgia  Antarctic\n",
      "1        Grenada   Americas\n",
      "2    Switzerland     Europe\n",
      "3   Sierra Leone     Africa\n",
      "4        Hungary     Europe\n"
     ]
    }
   ],
   "source": [
    "url = \"https://restcountries.com/v3.1/all\"\n",
    "response = requests.get(url)\n",
    "\n",
    "if response.status_code == 200:\n",
    "    data = response.json()\n",
    "\n",
    "    # Listas para armazenar os dados\n",
    "    paises = []\n",
    "    capitais = []\n",
    "    regioes = []\n",
    "\n",
    "    # Iterando sobre os dados e extraindo as informações desejadas\n",
    "    for country in data:\n",
    "        paises.append(country['name']['common'])\n",
    "        capitais.append(country.get('capital', ''))\n",
    "        regioes.append(country.get('region', ''))\n",
    "\n",
    "    # DataFrames\n",
    "    df_paises = pd.DataFrame({'País': paises})\n",
    "    df_capitais = pd.DataFrame({'País': paises, 'Capital': capitais})\n",
    "    df_regioes = pd.DataFrame({'País': paises, 'Região': regioes})\n",
    "\n",
    "    # Exibindo as tabelas\n",
    "    print(\"Tabela de Países:\")\n",
    "    print(df_paises.head())\n",
    "\n",
    "    print(\"\\nTabela de Países e Capitais:\")\n",
    "    print(df_capitais.head())\n",
    "\n",
    "    print(\"\\nTabela de Países e Regiões:\")\n",
    "    print(df_regioes.head())\n",
    "\n",
    "else:\n",
    "    print(f\"Erro ao acessar a API.\")\n"
   ]
  }
 ],
 "metadata": {
  "kernelspec": {
   "display_name": "Python 3",
   "language": "python",
   "name": "python3"
  },
  "language_info": {
   "codemirror_mode": {
    "name": "ipython",
    "version": 3
   },
   "file_extension": ".py",
   "mimetype": "text/x-python",
   "name": "python",
   "nbconvert_exporter": "python",
   "pygments_lexer": "ipython3",
   "version": "3.12.4"
  }
 },
 "nbformat": 4,
 "nbformat_minor": 2
}
